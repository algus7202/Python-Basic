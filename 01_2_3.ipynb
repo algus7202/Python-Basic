{
  "nbformat": 4,
  "nbformat_minor": 0,
  "metadata": {
    "colab": {
      "private_outputs": true,
      "provenance": [],
      "authorship_tag": "ABX9TyMeBNLGswg4pMXxyhsAWAzY",
      "include_colab_link": true
    },
    "kernelspec": {
      "name": "python3",
      "display_name": "Python 3"
    },
    "language_info": {
      "name": "python"
    }
  },
  "cells": [
    {
      "cell_type": "markdown",
      "metadata": {
        "id": "view-in-github",
        "colab_type": "text"
      },
      "source": [
        "<a href=\"https://colab.research.google.com/github/algus7202/Python-Basic/blob/main/01_2_3.ipynb\" target=\"_parent\"><img src=\"https://colab.research.google.com/assets/colab-badge.svg\" alt=\"Open In Colab\"/></a>"
      ]
    },
    {
      "cell_type": "code",
      "execution_count": null,
      "metadata": {
        "id": "U4fY0srq8yFj"
      },
      "outputs": [],
      "source": [
        "year = ['2019', '2020','2021']\n",
        "tAccident = [4223, 4039, 4883]\n",
        "tDead = [206, 223, 191]\n",
        "rAccident = [28, 33, 27]\n",
        "rDead = [5, 3, 2]"
      ]
    },
    {
      "cell_type": "code",
      "source": [
        "# 2019년 자료 가져오기\n",
        "print(f'{year[0]}년') # print(year[0],\"년\")\n",
        "print(f'전체 사고건수 : {tAccident[0]}')\n",
        "print(f'전체 사망자수 : {tDead[0]}')\n",
        "print(f'역주행 사고건수 : {rAccident[0]}')\n",
        "print(f'역주행 사망자수 : {rDead[0]}')"
      ],
      "metadata": {
        "id": "4k679Rzd9fE_"
      },
      "execution_count": null,
      "outputs": []
    },
    {
      "cell_type": "code",
      "source": [
        "print(f'{year[1:2]}년') # 1번째에서 1개만 가져옴(콜론으로 구분)\n",
        "print(f'{year[1:3]}년') # 1번째에서 2개만 가져옴\n",
        "\n",
        "print(f'{year[1:]}년') # 마지막 숫자 생략시 : 1번째에서 끝까지 가져옴, 리스트 슬라이싱(slicing)\n",
        "\n",
        "print(f'전체 사고건수 : {tAccident[1:]}')\n",
        "print(f'전체 사망자수 : {tDead[1:]}')\n",
        "print(f'역주행 사고건수 : {rAccident[1:]}')\n",
        "print(f'역주행 사망자수 : {rDead[1:]}')\n"
      ],
      "metadata": {
        "id": "RfwyLEiL9jBS"
      },
      "execution_count": null,
      "outputs": []
    },
    {
      "cell_type": "code",
      "source": [
        "print(f'3년간 평균')\n",
        "print(f'전체 사고건수 : {sum(tAccident) / len(tAccident) : .2f}')\n",
        "print(f'전체 사망자수 : {sum(tDead) / len(tDead): .2f}')\n",
        "print(f'역주행 사고건수 : {sum(rAccident) / len(rAccident): .2f}')\n",
        "print(f'역주행 사망자수 : {sum(rDead) / len(rDead): .2f}')\n"
      ],
      "metadata": {
        "id": "xxuSygSY_0ws"
      },
      "execution_count": null,
      "outputs": []
    },
    {
      "cell_type": "code",
      "source": [
        "input_year = int(input(\"년도 입력 (2019~2021) :\"))\n",
        "ix = input_year - 2019\n",
        "rate = (tDead[ix] / tAccident[ix] ) * 100\n",
        "print(year, '년도 사고건수 ', tAccident[ix], '건 사망자수 ', tDead[ix], '명 → 치명률', rate)"
      ],
      "metadata": {
        "id": "d3M7T1vBAGzS"
      },
      "execution_count": null,
      "outputs": []
    },
    {
      "cell_type": "code",
      "source": [
        "print(f'{year}년도 사고건수 {tAccident[ix]} 건, 사망자수 {tDead[ix]} 명 → 치명률 {rate : .2f}')"
      ],
      "metadata": {
        "id": "ipxOsMwLBl3B"
      },
      "execution_count": null,
      "outputs": []
    },
    {
      "cell_type": "code",
      "source": [
        "# 치명률 빈리스트 생성\n",
        "tRate = []\n",
        "rRate = []"
      ],
      "metadata": {
        "id": "K4n4uo4PBr4O"
      },
      "execution_count": null,
      "outputs": []
    },
    {
      "cell_type": "code",
      "source": [
        "for i in range(len(year)):\n",
        "    rate = round((tDead[i] / tAccident[i] ) * 100, 2)\n",
        "    tRate.append(rate)\n",
        "    rate = round((rDead[i] / rAccident[i] ) * 100, 2)\n",
        "    rRate.append(rate)"
      ],
      "metadata": {
        "id": "AWypkno6Cnah"
      },
      "execution_count": null,
      "outputs": []
    },
    {
      "cell_type": "code",
      "source": [
        "#3년치 전체 치명률/역주행 치명률\n",
        "print(f'전체 치명률 : {tRate}, 역주행 치명률 : {rRate}')"
      ],
      "metadata": {
        "id": "oFAcQ9jIDAS8"
      },
      "execution_count": null,
      "outputs": []
    },
    {
      "cell_type": "code",
      "source": [
        "#3년 평균 치명률 / 역주행 치명률\n",
        "print(f'전체 평균 치명률 : {sum(tRate) / len(tRate) : .2f}, 역주행 평균 치명률 : {sum(rRate) / len(rRate) : .2f}')"
      ],
      "metadata": {
        "id": "m8dlij6sDS8G"
      },
      "execution_count": null,
      "outputs": []
    },
    {
      "cell_type": "code",
      "source": [
        "# 치명률 빈 딕셔너리 생성\n",
        "tRateDict = {}\n",
        "rRateDict = {}"
      ],
      "metadata": {
        "id": "ktxv0gLADizl"
      },
      "execution_count": null,
      "outputs": []
    },
    {
      "cell_type": "code",
      "source": [
        "for i in range(len(year)):\n",
        "    rate = round((tDead[i] / tAccident[i] ) * 100, 2)\n",
        "    tRateDict[year[i]] = rate\n",
        "    rate = round((rDead[i] / rAccident[i] ) * 100, 2)\n",
        "    rRateDict[year[i]] = rate"
      ],
      "metadata": {
        "id": "BCE3qx2GFskJ"
      },
      "execution_count": null,
      "outputs": []
    },
    {
      "cell_type": "code",
      "source": [
        "print(tRateDict)\n",
        "print(rRateDict)"
      ],
      "metadata": {
        "id": "pMa8yeC2F-23"
      },
      "execution_count": null,
      "outputs": []
    },
    {
      "cell_type": "code",
      "source": [
        "# zip을 이용하여 데이터 묶기\n",
        "tRateDict1 = dict(zip(year, tRate))\n",
        "rRateDict1 = dict(zip(year, rRate))"
      ],
      "metadata": {
        "id": "-27w1om5GCIx"
      },
      "execution_count": null,
      "outputs": []
    },
    {
      "cell_type": "code",
      "source": [
        "print(tRateDict1)\n",
        "print(rRateDict1)"
      ],
      "metadata": {
        "id": "8DtlIppiGrgS"
      },
      "execution_count": null,
      "outputs": []
    },
    {
      "cell_type": "code",
      "source": [
        "# 판다스로 데이터 묶기\n",
        "import pandas as pd"
      ],
      "metadata": {
        "id": "N8ULm2rNBe4h"
      },
      "execution_count": null,
      "outputs": []
    },
    {
      "cell_type": "code",
      "source": [
        "df = pd.DataFrame({'년도':year, '전체 사고건수':tAccident, '전체 사망자수':tDead, '역주행 사고건수':rAccident, '역주행 사망자수':rDead})\n",
        "df"
      ],
      "metadata": {
        "id": "3reJ8k-KBYTr"
      },
      "execution_count": null,
      "outputs": []
    },
    {
      "cell_type": "code",
      "source": [
        "df.info()"
      ],
      "metadata": {
        "id": "vrGR_mAXHT6A"
      },
      "execution_count": null,
      "outputs": []
    },
    {
      "cell_type": "code",
      "source": [
        "df.columns"
      ],
      "metadata": {
        "id": "NU0wVVlTHYwa"
      },
      "execution_count": null,
      "outputs": []
    },
    {
      "cell_type": "code",
      "source": [
        "df = df.set_index('년도')\n",
        "df"
      ],
      "metadata": {
        "id": "rODOTBIaBUgp"
      },
      "execution_count": null,
      "outputs": []
    },
    {
      "cell_type": "code",
      "source": [
        "df['전체 사고건수']"
      ],
      "metadata": {
        "id": "ICrg1vzsAz8u"
      },
      "execution_count": null,
      "outputs": []
    },
    {
      "cell_type": "code",
      "source": [
        "df.loc['2020', '역주행 사고건수']"
      ],
      "metadata": {
        "id": "ZoosrHX7_92r"
      },
      "execution_count": null,
      "outputs": []
    },
    {
      "cell_type": "code",
      "source": [
        "df['전체 치명률'] = df['전체 사망자수'] / df['전체 사고건수'] * 100\n",
        "df['역주행 치명률'] = df['역주행 사망자수'] / df['역주행 사고건수'] * 100\n",
        "df"
      ],
      "metadata": {
        "id": "P-amwuP7_mKV"
      },
      "execution_count": null,
      "outputs": []
    },
    {
      "cell_type": "code",
      "source": [],
      "metadata": {
        "id": "EpNGiG1S-8eo"
      },
      "execution_count": null,
      "outputs": []
    },
    {
      "cell_type": "code",
      "source": [],
      "metadata": {
        "id": "4leHq4L883zh"
      },
      "execution_count": null,
      "outputs": []
    }
  ]
}