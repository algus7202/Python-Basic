{
  "nbformat": 4,
  "nbformat_minor": 0,
  "metadata": {
    "colab": {
      "private_outputs": true,
      "provenance": [],
      "authorship_tag": "ABX9TyNDUjVuo6l1dTQHm8qbUAfA",
      "include_colab_link": true
    },
    "kernelspec": {
      "name": "python3",
      "display_name": "Python 3"
    },
    "language_info": {
      "name": "python"
    }
  },
  "cells": [
    {
      "cell_type": "markdown",
      "metadata": {
        "id": "view-in-github",
        "colab_type": "text"
      },
      "source": [
        "<a href=\"https://colab.research.google.com/github/algus7202/Python-Basic/blob/main/01-2-1.ipynb\" target=\"_parent\"><img src=\"https://colab.research.google.com/assets/colab-badge.svg\" alt=\"Open In Colab\"/></a>"
      ]
    },
    {
      "cell_type": "code",
      "execution_count": null,
      "metadata": {
        "id": "U4fY0srq8yFj"
      },
      "outputs": [],
      "source": [
        "year = ['2019', '2020','2021']\n",
        "tAccident = [4223, 4039, 4883]\n",
        "tDead = [206, 223, 191]\n",
        "rAccident = [28, 33, 27]\n",
        "rDead = [5, 3, 2]"
      ]
    },
    {
      "cell_type": "code",
      "source": [
        "# 2019년 자료 가져오기\n",
        "print(f'{year[0]}년') # print(year[0],\"년\")\n",
        "print(f'전체 사고건수 : {tAccident[0]}')\n",
        "print(f'전체 사망자수 : {tDead[0]}')\n",
        "print(f'역주행 사고건수 : {rAccident[0]}')\n",
        "print(f'역주행 사망자수 : {rDead[0]}')"
      ],
      "metadata": {
        "id": "4k679Rzd9fE_"
      },
      "execution_count": null,
      "outputs": []
    },
    {
      "cell_type": "code",
      "source": [],
      "metadata": {
        "id": "RfwyLEiL9jBS"
      },
      "execution_count": null,
      "outputs": []
    },
    {
      "cell_type": "code",
      "source": [],
      "metadata": {
        "id": "4leHq4L883zh"
      },
      "execution_count": null,
      "outputs": []
    }
  ]
}